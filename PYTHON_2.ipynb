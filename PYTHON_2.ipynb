{
  "nbformat": 4,
  "nbformat_minor": 0,
  "metadata": {
    "colab": {
      "provenance": []
    },
    "kernelspec": {
      "name": "python3",
      "display_name": "Python 3"
    },
    "language_info": {
      "name": "python"
    }
  },
  "cells": [
    {
      "cell_type": "markdown",
      "source": [
        "1. explain the key features of Python that make it a popular choice for programming.\n",
        "\n",
        "Ans :\n",
        " - Easy to Learn and Use: Python has a simple syntax that is similar to English, making it easier for beginners to learn and use.<br>\n",
        " - Interpreted Language: Python is an interpreted language, meaning that the code is executed line by line, which simplifies debugging and testing.<br>\n",
        " - Versatile and Flexible: Python is a general-purpose programming language that can be used in various domains such as web development, data science, artificial intelligence, automation, and more.<br>\n",
        " -Standard Library: Python comes with a comprehensive standard library that includes modules and packages for many common programming tasks, such as file handling, regular expressions, databases, and web services\n",
        " - Use in AI and Machine Learning: Python is the go-to language for AI and machine learning due to its powerful libraries like TensorFlow, Keras, and Scikit-learn, which simplify the development of complex algorithms and models.\n",
        ""
      ],
      "metadata": {
        "id": "oCXj1ZEFiIOM"
      }
    },
    {
      "cell_type": "markdown",
      "source": [
        "2. Describe the role of predefined keywords in Python and provide examples of how they are used in a\n",
        "program<br>\n",
        "Ans:<br>\n",
        "Predefined keywords in Python are reserved words that have specific meanings and functions within the language. These keywords are part of the Python syntax, and they are used to perform operations, control the flow of the program, define data structures, and handle exceptions, among other tasks. Because they are reserved, you cannot use them as identifiers\n",
        "- Control Flow: Keywords like if, else, elif, for, while, and break are used to control the flow of the program.\n"
      ],
      "metadata": {
        "id": "383Gg2VqjR1e"
      }
    },
    {
      "cell_type": "code",
      "source": [
        "x = 10\n",
        "if x > 5:\n",
        "    print(\"x is greater than 5\")\n",
        "else:\n",
        "    print(\"x is 5 or less\")\n"
      ],
      "metadata": {
        "colab": {
          "base_uri": "https://localhost:8080/"
        },
        "id": "f9FDml51lFPE",
        "outputId": "775d078a-9561-4e29-d84c-c33dd0884603"
      },
      "execution_count": 1,
      "outputs": [
        {
          "output_type": "stream",
          "name": "stdout",
          "text": [
            "x is greater than 5\n"
          ]
        }
      ]
    },
    {
      "cell_type": "markdown",
      "source": [
        "- Function and Class Definitions: Keywords like def, class, return, and lambda are used to define functions, classes, and return values from functions."
      ],
      "metadata": {
        "id": "uDXTq4cTlIYq"
      }
    },
    {
      "cell_type": "code",
      "source": [
        "def add(a, b):\n",
        "    return a + b\n",
        "\n",
        "class Dog:\n",
        "    def bark(self):\n",
        "        print(\"Woof!\")\n",
        "add(5,3)"
      ],
      "metadata": {
        "colab": {
          "base_uri": "https://localhost:8080/"
        },
        "id": "g3YJYEl0l6Mk",
        "outputId": "6b389a92-6490-4a10-ad3f-344bda2d63f9"
      },
      "execution_count": 6,
      "outputs": [
        {
          "output_type": "execute_result",
          "data": {
            "text/plain": [
              "8"
            ]
          },
          "metadata": {},
          "execution_count": 6
        }
      ]
    },
    {
      "cell_type": "markdown",
      "source": [
        "- Data Structures and Variable Assignments: Keywords such as True, False, None, and, or, not, in, and is are used to define boolean values, logical operations, and to check membership or identity."
      ],
      "metadata": {
        "id": "R8FUKxLll8OQ"
      }
    },
    {
      "cell_type": "code",
      "source": [
        "a = True\n",
        "b = False\n",
        "\n",
        "if a and not b:\n",
        "    print(\"a is True and b is False\")\n",
        "\n",
        "lst = [1, 2, 3]\n",
        "if 2 in lst:\n",
        "    print(\"2 is in the list\")\n"
      ],
      "metadata": {
        "colab": {
          "base_uri": "https://localhost:8080/"
        },
        "id": "Ftdt9Ei5mA9G",
        "outputId": "4639a14a-aea6-4cef-99e5-001a223ddb5f"
      },
      "execution_count": 3,
      "outputs": [
        {
          "output_type": "stream",
          "name": "stdout",
          "text": [
            "a is True and b is False\n",
            "2 is in the list\n"
          ]
        }
      ]
    },
    {
      "cell_type": "markdown",
      "source": [
        "- Exception Handling: Keywords like try, except, finally, raise, and assert are used to handle exceptions, ensuring that your program can deal with errors"
      ],
      "metadata": {
        "id": "MYvkTEonoKSG"
      }
    },
    {
      "cell_type": "code",
      "source": [
        "try:\n",
        "    result = 10 / 0\n",
        "except ZeroDivisionError:\n",
        "    print(\"Cannot divide by zero\")\n",
        "finally:\n",
        "    print(\"This block always executes\")\n"
      ],
      "metadata": {
        "colab": {
          "base_uri": "https://localhost:8080/"
        },
        "id": "0OLFlocxoYCl",
        "outputId": "0b62427e-407a-45ac-b167-4af9bd9b2c3c"
      },
      "execution_count": 7,
      "outputs": [
        {
          "output_type": "stream",
          "name": "stdout",
          "text": [
            "Cannot divide by zero\n",
            "This block always executes\n"
          ]
        }
      ]
    },
    {
      "cell_type": "markdown",
      "source": [
        "- Importing Modules: The import and from keywords are used to import modules and specific functions or classes from those modules."
      ],
      "metadata": {
        "id": "rxvElOEwomGB"
      }
    },
    {
      "cell_type": "code",
      "source": [
        "import math\n",
        "print(math.sqrt(16))\n",
        "\n",
        "from datetime import datetime\n",
        "print(datetime.now())\n"
      ],
      "metadata": {
        "colab": {
          "base_uri": "https://localhost:8080/"
        },
        "id": "vmfreI2joreD",
        "outputId": "465cceb6-f5a3-4c88-855f-466440d34e9a"
      },
      "execution_count": 8,
      "outputs": [
        {
          "output_type": "stream",
          "name": "stdout",
          "text": [
            "4.0\n",
            "2024-09-02 07:31:40.353019\n"
          ]
        }
      ]
    },
    {
      "cell_type": "markdown",
      "source": [
        "3. Compare and contrast mutable and immutable objects in Python with examples\n",
        "ans :<br>\n",
        "\n",
        "Differences\n",
        "\n",
        "Modification:\n",
        "\n",
        "Mutable: Can be modified in place, meaning the object itself is changed.\n",
        "\n",
        "Immutable: Cannot be modified in place; any operation that modifies the object returns a new object.\n",
        "\n",
        "Memory Usage:\n",
        "\n",
        "Mutable: Since modifications happen in place, mutable objects can be more memory-efficient, especially with frequent updates.\n",
        "Immutable: Because modifications create new objects, immutable objects can be less memory-efficient if many changes are needed, as each change creates a new object.\n",
        "\n",
        "Hashability:\n",
        "\n",
        "Mutable: Mutable objects cannot be used as dictionary keys or set elements because their content can change, which would affect their hash value.\n",
        "\n",
        "Immutable: Immutable objects, like strings and tuples, are hashable and can be used as dictionary keys or set elements.\n",
        "\n",
        "Examples:\n",
        "\n",
        "Mutable: Lists, dictionaries, sets.\n",
        "Immutable: Strings, tuples, integers, floats."
      ],
      "metadata": {
        "id": "Q2e8p26vo_AN"
      }
    },
    {
      "cell_type": "code",
      "source": [
        "# list (mutable)\n",
        "my_list = [1, 2, 3]\n",
        "my_list.append(4)\n",
        "print(my_list)"
      ],
      "metadata": {
        "colab": {
          "base_uri": "https://localhost:8080/"
        },
        "id": "Fl3Jwdf2riq7",
        "outputId": "a1f4d934-169b-4afd-d72f-4cc27a69f355"
      },
      "execution_count": 10,
      "outputs": [
        {
          "output_type": "stream",
          "name": "stdout",
          "text": [
            "[1, 2, 3, 4]\n"
          ]
        }
      ]
    },
    {
      "cell_type": "code",
      "source": [
        "my_string = \"Hello\"\n",
        "new_string = my_string + \" World\"\n",
        "print(my_string)\n",
        "print(new_string)"
      ],
      "metadata": {
        "colab": {
          "base_uri": "https://localhost:8080/"
        },
        "id": "RKpSuYoHrqdo",
        "outputId": "58e9bc97-78c5-4f6c-8094-012bd4b7448f"
      },
      "execution_count": 11,
      "outputs": [
        {
          "output_type": "stream",
          "name": "stdout",
          "text": [
            "Hello\n",
            "Hello World\n"
          ]
        }
      ]
    },
    {
      "cell_type": "markdown",
      "source": [
        "4. Discuss the different types of operators in Python and provide examples of how they are used.<br>\n",
        "\n",
        "Ans:\n",
        "\n",
        "Arithmetic Operators\n",
        "\n",
        "Arithmetic operators are used to perform basic mathematical operations such as addition, subtraction, multiplication, division, etc.\n",
        "\n",
        "- Addition (+): Adds two operands.\n",
        "\n",
        "- Subtraction (-): Subtracts the second operand from the first.\n",
        "\n",
        "- Multiplication (*): Multiplies two operands.\n",
        "\n",
        "- Division (/): Divides the first operand by the second (returns a float).\n",
        "\n",
        "- Floor Division (//): Divides the first operand by the second (returns an integer).\n",
        "\n",
        "- Modulus (%): Returns the remainder when the first operand is divided by the second.\n",
        "\n",
        "- Exponentiation (**): Raises the first operand to the power of the second.\n",
        "\n",
        "Logical operators\n",
        "\n",
        "- and: Returns True if both operands are true.\n",
        "- or: Returns True if at least one of the operands is true.\n",
        "- not: Returns True if the operand is false, and vice versa.\n",
        "\n",
        "Assignment Operators\n",
        "\n",
        "- =: Assigns the value on the right to the variable on the left.\n",
        "+=: Adds the right operand to the left operand and assigns the result to the left operand.\n",
        "-=: Subtracts the right operand from the left operand and assigns the result to the left operand.\n",
        "*=: Multiplies the left operand by the right operand and assigns the result to the left operand.\n",
        "- /=: Divides the left operand by the right operand and assigns the result to the left operand (result is a float).\n",
        "- %=: Takes the modulus using the left and right operands and assigns the result to the left operand.\n",
        "\n",
        "bitwise operator\n",
        "\n",
        "- The & (bitwise AND) in C takes two numbers as operands and does AND on every bit of two numbers. The result of AND is 1 only if both bits are 1.  \n",
        "- The | (bitwise OR) in C takes two numbers as operands and does OR on every bit of two numbers. The result of OR is 1 if any of the two bits is 1.\n",
        "- The ^ (bitwise XOR) in C takes two numbers as operands and does XOR on every bit of two numbers. The result of XOR is 1 if the two bits are different.\n",
        "- The << (left shift) in C takes two numbers, the left shifts the bits of the first operand, and the second operand decides the number of places to shift.\n",
        "- The >> (right shift) in C takes two numbers, right shifts the bits of the first operand, and the second operand decides the number of places to shift.\n",
        "- The ~ (bitwise NOT) in C takes one number and inverts all bits of it.\n",
        "\n",
        "Membership Operators\n",
        "\n",
        "- in: \tReturns True if a sequence with the specified value is present in the object\n",
        "- not in:\tReturns True if a sequence with the specified value is not present in the object\n",
        "\n",
        "identity operator\n",
        "\n",
        "- is: \tReturns true if both variables are the same object\n",
        "- is not:\tReturns true if both variables are not the same object\n",
        "\n",
        "\n"
      ],
      "metadata": {
        "id": "A-n8IrSesO4p"
      }
    },
    {
      "cell_type": "code",
      "source": [
        "\n",
        "# 1. Arithmetic Operators\n",
        "x = 10\n",
        "y = 5\n",
        "\n",
        "print(\"Addition:\", x + y)          # Output: 15\n",
        "print(\"Subtraction:\", x - y)       # Output: 5\n",
        "print(\"Multiplication:\", x * y)    # Output: 50\n",
        "print(\"Division:\", x / y)          # Output: 2.0\n",
        "print(\"Floor Division:\", x // y)   # Output: 2\n",
        "print(\"Modulus:\", x % y)           # Output: 0\n",
        "print(\"Exponentiation:\", x ** y)   # Output: 100000\n",
        "\n",
        "# 2. Comparison Operators\n",
        "print(\"Equal to:\", x == y)         # Output: False\n",
        "print(\"Not equal to:\", x != y)     # Output: True\n",
        "print(\"Greater than:\", x > y)      # Output: True\n",
        "print(\"Less than:\", x < y)         # Output: False\n",
        "print(\"Greater than or equal to:\", x >= y)  # Output: True\n",
        "print(\"Less than or equal to:\", x <= y)     # Output: False\n",
        "\n",
        "# 3. Logical Operators\n",
        "a = True\n",
        "b = False\n",
        "\n",
        "print(\"Logical AND:\", a and b)     # Output: False\n",
        "print(\"Logical OR:\", a or b)       # Output: True\n",
        "print(\"Logical NOT:\", not a)       # Output: False\n",
        "\n",
        "# 4. Assignment Operators\n",
        "x = 10\n",
        "x += 5  # Equivalent to x = x + 5\n",
        "print(\"x after += 5:\", x)          # Output: 15\n",
        "\n",
        "x -= 3  # Equivalent to x = x - 3\n",
        "print(\"x after -= 3:\", x)          # Output: 12\n",
        "\n",
        "x *= 2  # Equivalent to x = x * 2\n",
        "print(\"x after *= 2:\", x)          # Output: 24\n",
        "\n",
        "x /= 4  # Equivalent to x = x / 4\n",
        "print(\"x after /= 4:\", x)          # Output: 6.0\n",
        "\n",
        "x %= 5  # Equivalent to x = x % 5\n",
        "print(\"x after %= 5:\", x)          # Output: 1.0\n",
        "\n",
        "x **= 3  # Equivalent to x = x ** 3\n",
        "print(\"x after **= 3:\", x)         # Output: 1.0\n",
        "\n",
        "x //= 3  # Equivalent to x = x // 3\n",
        "print(\"x after //= 3:\", x)         # Output: 0.0\n",
        "\n",
        "# 5. Bitwise Operators\n",
        "x = 5  # (0101 in binary)\n",
        "y = 3  # (0011 in binary)\n",
        "\n",
        "print(\"Bitwise AND:\", x & y)       # Output: 1 (0001 in binary)\n",
        "print(\"Bitwise OR:\", x | y)        # Output: 7 (0111 in binary)\n",
        "print(\"Bitwise XOR:\", x ^ y)       # Output: 6 (0110 in binary)\n",
        "print(\"Bitwise NOT:\", ~x)          # Output: -6 (invert 0101 to 1010 in binary)\n",
        "print(\"Left Shift:\", x << 2)       # Output: 20 (0101 becomes 10100)\n",
        "print(\"Right Shift:\", x >> 2)      # Output: 1 (0101 becomes 0001)\n",
        "\n",
        "# 6. Membership Operators\n",
        "my_list = [1, 2, 3, 4]\n",
        "\n",
        "print(\"2 in my_list:\", 2 in my_list)       # Output: True\n",
        "print(\"5 not in my_list:\", 5 not in my_list)  # Output: True\n",
        "\n",
        "# 7. Identity Operators\n",
        "a = [1, 2, 3]\n",
        "b = a\n",
        "c = [1, 2, 3]\n",
        "\n",
        "print(\"a is b:\", a is b)                   # Output: True\n",
        "print(\"a is not c:\", a is not c)           # Output: True\n"
      ],
      "metadata": {
        "colab": {
          "base_uri": "https://localhost:8080/"
        },
        "id": "-9o0TFaAydpG",
        "outputId": "5911c7a1-3f77-4401-8cec-78987096c483"
      },
      "execution_count": 12,
      "outputs": [
        {
          "output_type": "stream",
          "name": "stdout",
          "text": [
            "15\n"
          ]
        }
      ]
    },
    {
      "cell_type": "markdown",
      "source": [
        "5. explain the concept of type casting in Python with examples\n",
        "\n",
        "ans:\n",
        "\n",
        "Type Casting is the method to convert the Python variable datatype into a certain data type in order to perform the required operation by users. In this article, we will see the various techniques for typecasting. There can be two types of Type Casting in Python:\n",
        "\n",
        "- Python Implicit Type Conversion\n",
        "- Python Explicit Type Conversion\n",
        "\n",
        "Mainly type casting can be done with these data type functions:\n",
        "\n",
        "- Int(): Python Int() function take float or string as an argument and returns int type object.\n",
        "\n",
        "- float(): Python float() function take int or string as an argument and return float type object.\n",
        "- str(): Python str() function takes float or int as an argument and returns string type object."
      ],
      "metadata": {
        "id": "u4llfcAL-NJI"
      }
    },
    {
      "cell_type": "code",
      "source": [
        "a = 7\n",
        "print(type(a))\n",
        "\n",
        "# Python automatically converts\n",
        "# b to float\n",
        "b = 3.0\n",
        "print(type(b))\n",
        "\n",
        "# Python automatically converts\n",
        "# c to float as it is a float addition\n",
        "c = a + b\n",
        "print(c)\n",
        "print(type(c))\n",
        "\n",
        "# Python automatically converts\n",
        "# d to float as it is a float multiplication\n",
        "d = a * b\n",
        "print(d)\n",
        "print(type(d))"
      ],
      "metadata": {
        "colab": {
          "base_uri": "https://localhost:8080/"
        },
        "id": "RYPXiW1-_CB_",
        "outputId": "e6309829-2d13-4b1d-95a4-eb944dca23d8"
      },
      "execution_count": 13,
      "outputs": [
        {
          "output_type": "stream",
          "name": "stdout",
          "text": [
            "<class 'int'>\n",
            "<class 'float'>\n",
            "10.0\n",
            "<class 'float'>\n",
            "21.0\n",
            "<class 'float'>\n"
          ]
        }
      ]
    },
    {
      "cell_type": "markdown",
      "source": [
        "How do conditional statements work in Python Illustrate with examples\n",
        "\n",
        "The if statement allows you to execute a block of code if a certain condition is true.\n",
        "\n",
        " Here's the basic syntax:\n",
        "\n",
        "if condition:\n",
        "    # code to execute if condition is tru\n",
        "\n",
        "The else statement allows you to execute a different block of code if the if condition is False.\n",
        "\n",
        " Here's the basic syntax:\n",
        " if condition:\n",
        "    # code to execute if condition is true\n",
        "else:\n",
        "    # code to execute if condition is false\n",
        "\n",
        "If the condition is True, the code block indented below the if statement will be executed, and the code block indented below the else statement will be skipped.\n",
        "\n",
        "If the condition is False, the code block indented below the else statement will be executed, and the code block indented below the if statement will be skipped.\n",
        "\n",
        "\n",
        "\n"
      ],
      "metadata": {
        "id": "bNjXwGjP_Et1"
      }
    },
    {
      "cell_type": "code",
      "source": [
        "num = -5\n",
        "if num > 0:\n",
        "    print(\"The number is positive.\")\n",
        "else:\n",
        "    print(\"The number is negative.\")"
      ],
      "metadata": {
        "id": "GYMNPoNeApHA"
      },
      "execution_count": null,
      "outputs": []
    },
    {
      "cell_type": "markdown",
      "source": [],
      "metadata": {
        "id": "66XUOTDABDGp"
      }
    },
    {
      "cell_type": "markdown",
      "source": [
        "6. Describe the different types of loops in Python and their use cases with examples\n",
        "\n",
        "While Loop in Python\n",
        "\n",
        "- In Python, a while loop is used to execute a block of statements repeatedly until a given condition is satisfied. When the condition becomes false, the line immediately after the loop in the program is executed.\n",
        "\n",
        "while expression:\n",
        "    statement(s)\n",
        "\n",
        "\n",
        "\n",
        "\n"
      ],
      "metadata": {
        "id": "VcdJgMlRBOWr"
      }
    },
    {
      "cell_type": "code",
      "source": [
        "count = 0\n",
        "while (count < 3):\n",
        "    count = count + 1\n",
        "    print(\"Hello Geek\")\n"
      ],
      "metadata": {
        "id": "1t1_YM_TB4dC"
      },
      "execution_count": null,
      "outputs": []
    },
    {
      "cell_type": "markdown",
      "source": [
        "-  for loop is used to iterate over a sequence (such as a list, tuple, string, or dictionary) or any iterable object. The basic syntax of the for loop is:"
      ],
      "metadata": {
        "id": "WjUPc4QnCAaa"
      }
    },
    {
      "cell_type": "code",
      "source": [
        "# Iterating over a String\n",
        "print(\"String Iteration\")\n",
        "\n",
        "s = \"Geeks\"\n",
        "for i in s:\n",
        "    print(i)\n"
      ],
      "metadata": {
        "colab": {
          "base_uri": "https://localhost:8080/"
        },
        "id": "0COA8Kt3B_PU",
        "outputId": "3b7f6977-de38-4e20-effc-c1f0058f922b"
      },
      "execution_count": 14,
      "outputs": [
        {
          "output_type": "stream",
          "name": "stdout",
          "text": [
            "String Iteration\n",
            "G\n",
            "e\n",
            "e\n",
            "k\n",
            "s\n"
          ]
        }
      ]
    },
    {
      "cell_type": "markdown",
      "source": [
        "- Do while loop is a type of control looping statement that can run any statement until the condition statement becomes false specified in the loop. In do while loop the statement runs at least once no matter whether the condition is false or true."
      ],
      "metadata": {
        "id": "nZrhOPO-CSqG"
      }
    },
    {
      "cell_type": "code",
      "source": [
        "int main() {\n",
        "\n",
        "    int i=0;\n",
        "      // Defining do while loop\n",
        "      // to write multiple of 2\n",
        "      do{\n",
        "      i++;\n",
        "      cout<<\"2 x \"<<i<<\"=\"<<2*i<<endl;\n",
        "    }while(i<5);\n",
        "\n",
        "    return 0;\n",
        "}"
      ],
      "metadata": {
        "colab": {
          "base_uri": "https://localhost:8080/",
          "height": 110
        },
        "id": "ZNaXZgG6CcSP",
        "outputId": "e29f518e-d444-43f9-96d3-f57c2e274089"
      },
      "execution_count": 15,
      "outputs": [
        {
          "output_type": "error",
          "ename": "SyntaxError",
          "evalue": "invalid syntax (<ipython-input-15-e77283c6790a>, line 1)",
          "traceback": [
            "\u001b[0;36m  File \u001b[0;32m\"<ipython-input-15-e77283c6790a>\"\u001b[0;36m, line \u001b[0;32m1\u001b[0m\n\u001b[0;31m    int main() {\u001b[0m\n\u001b[0m        ^\u001b[0m\n\u001b[0;31mSyntaxError\u001b[0m\u001b[0;31m:\u001b[0m invalid syntax\n"
          ]
        }
      ]
    },
    {
      "cell_type": "markdown",
      "source": [],
      "metadata": {
        "id": "aZwHglNZAqd0"
      }
    }
  ]
}